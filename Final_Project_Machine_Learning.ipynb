{
  "cells": [
    {
      "cell_type": "markdown",
      "metadata": {
        "id": "rqVpeOIRRwFT"
      },
      "source": [
        "# Final Group-5 Submittion \"Medical Insurance Cost Prediction Using Machine Learning\""
      ]
    },
    {
      "cell_type": "code",
      "execution_count": null,
      "metadata": {
        "id": "A_N0bAZlRwFV"
      },
      "outputs": [],
      "source": [
        "import numpy as np\n",
        "import pandas as pd\n",
        "import matplotlib.pyplot as plt\n",
        "import seaborn as sns\n",
        "from sklearn.model_selection import train_test_split\n",
        "from sklearn.linear_model import LinearRegression\n",
        "from sklearn.tree import DecisionTreeRegressor\n",
        "from sklearn.ensemble import GradientBoostingRegressor\n",
        "from sklearn import metrics\n",
        "from sklearn.metrics import accuracy_score\n",
        "from sklearn.preprocessing import StandardScaler"
      ]
    },
    {
      "cell_type": "code",
      "source": [
        "from google.colab import drive\n",
        "drive.mount('/content/drive')"
      ],
      "metadata": {
        "id": "WtX-LA2Vam5n"
      },
      "execution_count": null,
      "outputs": []
    },
    {
      "cell_type": "code",
      "execution_count": null,
      "metadata": {
        "scrolled": true,
        "id": "R2yAXXZORwFV"
      },
      "outputs": [],
      "source": [
        "#Load the sample database\n",
        "df = pd.read_csv(\"/content/drive/MyDrive/ML_Project/insurance.csv\")\n",
        "df.describe()"
      ]
    },
    {
      "cell_type": "markdown",
      "source": [
        "# Cleaning data"
      ],
      "metadata": {
        "id": "iy-xxjxYae1U"
      }
    },
    {
      "cell_type": "markdown",
      "source": [
        "### ENCODING CATEGORICAL FEATURES"
      ],
      "metadata": {
        "id": "g624BJPpxkE2"
      }
    },
    {
      "cell_type": "markdown",
      "source": [
        "Categorical Feautres :\n",
        "\n",
        "\n",
        "\n",
        "1.   Sex\n",
        "2.   Smoker\n",
        "2.   Region\n",
        "\n",
        "\n"
      ],
      "metadata": {
        "id": "lSCL6j-Wx1wB"
      }
    },
    {
      "cell_type": "code",
      "source": [
        "# Create a label encoder object\n",
        "from sklearn.preprocessing import LabelEncoder\n",
        "from sklearn.preprocessing import OrdinalEncoder\n",
        "\n",
        "# Create a label encoder object\n",
        "le = LabelEncoder()\n",
        "\n",
        "# Fit and transform the \"category\" column using the label encoder\n",
        "df[\"sex\"] = le.fit_transform(df[\"sex\"])\n",
        "category_map = {0: 1, 1: 0}\n",
        "df[\"sex\"] = df[\"sex\"].map(category_map)\n",
        "\n",
        "df[\"smoker\"] = le.fit_transform(df[\"smoker\"])\n",
        "category_map = {0: 1, 1: 0}\n",
        "df[\"smoker\"] = df[\"smoker\"].map(category_map)\n",
        "\n",
        "# Create a sample dataframe\n",
        "# 0=southeast\n",
        "# 1=southwest\n",
        "# 2=northeast\n",
        "# 3=northwest\n",
        "\n",
        "# # Create an ordinal encoder object\n",
        "oe = OrdinalEncoder(categories=[['southeast', 'southwest', 'northeast','northwest']])\n",
        "\n",
        "# # Fit and transform the \"color\" column using the ordinal encoder\n",
        "df[\"region\"] = oe.fit_transform(df[[\"region\"]])\n",
        "\n",
        "# # Set the value of the baseline category to 0\n",
        "df.loc[df[\"region\"] == \"southeast\", \"region\"] = 0\n",
        "\n",
        "# Display the encoded dataframe\n",
        "df['region'] = df['region'].astype(int)\n",
        "\n",
        "# Display the encoded dataframe\n",
        "print(df)"
      ],
      "metadata": {
        "id": "l_MRskrwcEPi"
      },
      "execution_count": null,
      "outputs": []
    },
    {
      "cell_type": "code",
      "source": [
        "# Check for missing values in the DataFrame\n",
        "missing_values = df.isnull()\n",
        "# Count the number of missing values in each column of the DataFrame\n",
        "num_missing = missing_values.sum()\n",
        "\n",
        "# Display the number of missing values in each column\n",
        "print(num_missing)"
      ],
      "metadata": {
        "id": "WvVRyS0ldjJz"
      },
      "execution_count": null,
      "outputs": []
    },
    {
      "cell_type": "markdown",
      "source": [
        "\n",
        "> No missing values\n",
        "\n",
        "\n"
      ],
      "metadata": {
        "id": "RY92IxyEyHdA"
      }
    },
    {
      "cell_type": "code",
      "source": [
        "# Check for duplicates in the DataFrame\n",
        "duplicates = df.duplicated()\n",
        "\n",
        "# Count the number of duplicates in the DataFrame\n",
        "num_duplicates = duplicates.sum()\n",
        "\n",
        "# Display the number of duplicates in the DataFrame\n",
        "print(num_duplicates)"
      ],
      "metadata": {
        "id": "pp4kqtAxdmPS"
      },
      "execution_count": null,
      "outputs": []
    },
    {
      "cell_type": "code",
      "source": [
        "# Find the duplicate rows in the DataFrame\n",
        "duplicate_rows = df[df.duplicated(keep=False)]\n",
        "\n",
        "# Display the duplicate rows\n",
        "print(duplicate_rows)"
      ],
      "metadata": {
        "id": "A88KWjp-dooa"
      },
      "execution_count": null,
      "outputs": []
    },
    {
      "cell_type": "markdown",
      "source": [
        "\n",
        "\n",
        "> Only 1 duplicate\n"
      ],
      "metadata": {
        "id": "D1ArqqZfyQwC"
      }
    },
    {
      "cell_type": "code",
      "source": [
        "# Drop duplicates from the DataFrame\n",
        "df = df.drop_duplicates()\n",
        "\n",
        "# Display the first few rows of the DataFrame after dropping duplicates\n",
        "print(df)"
      ],
      "metadata": {
        "id": "gVBKLbDtdruY"
      },
      "execution_count": null,
      "outputs": []
    },
    {
      "cell_type": "markdown",
      "source": [
        "## Distributions"
      ],
      "metadata": {
        "id": "Pk2YItalu2Tp"
      }
    },
    {
      "cell_type": "code",
      "execution_count": null,
      "metadata": {
        "id": "JYxrd7ocRwFX"
      },
      "outputs": [],
      "source": [
        "#Display and plot The features to view Age distribution \n",
        "sns.set()\n",
        "plt.figure(figsize=(6,6))\n",
        "sns.histplot(df['age'])\n",
        "plt.title('Age Distribution')\n",
        "plt.show()"
      ]
    },
    {
      "cell_type": "markdown",
      "source": [
        "\n",
        "\n",
        "> The predominant age in this data set is between 18 and 20.\n",
        "\n",
        "\n"
      ],
      "metadata": {
        "id": "KFR5VCVWlObw"
      }
    },
    {
      "cell_type": "code",
      "execution_count": null,
      "metadata": {
        "id": "pLpeH7i-RwFX"
      },
      "outputs": [],
      "source": [
        "#Display and plot The features to view Sex distribution \n",
        "plt.figure(figsize=(6,6))\n",
        "sns.countplot(x='sex', data=df)\n",
        "plt.title('Sex Distribution')\n",
        "plt.show()"
      ]
    },
    {
      "cell_type": "code",
      "execution_count": null,
      "metadata": {
        "id": "dlh7WnF2RwFX"
      },
      "outputs": [],
      "source": [
        "#Display and plot The features to view BMI distribution \n",
        "plt.figure(figsize=(6,6))\n",
        "sns.histplot(df['bmi'])\n",
        "plt.title('BMI Distribution')\n",
        "plt.show()"
      ]
    },
    {
      "cell_type": "code",
      "execution_count": null,
      "metadata": {
        "id": "-7HjTn5nRwFX"
      },
      "outputs": [],
      "source": [
        "#Display and plot The features to view Children distribution \n",
        "plt.figure(figsize=(6,6))\n",
        "sns.countplot(x='children', data=df)\n",
        "plt.title('Children')\n",
        "plt.show()"
      ]
    },
    {
      "cell_type": "markdown",
      "source": [
        "\n",
        "\n",
        "> Most people in this dataset have no children and the maximum number of children is 5\n",
        "\n",
        "\n",
        "\n"
      ],
      "metadata": {
        "id": "xbVOQiSrxb-f"
      }
    },
    {
      "cell_type": "code",
      "execution_count": null,
      "metadata": {
        "id": "QHqcrxvFRwFX"
      },
      "outputs": [],
      "source": [
        "#Display and plot The features to view smoker distribution \n",
        "plt.figure(figsize=(6,6))\n",
        "sns.countplot(x='smoker', data=df)\n",
        "plt.title('smoker')\n",
        "plt.show()"
      ]
    },
    {
      "cell_type": "code",
      "execution_count": null,
      "metadata": {
        "id": "sdbFCiXhRwFY"
      },
      "outputs": [],
      "source": [
        "#Display and plot The features to view region distribution \n",
        "plt.figure(figsize=(6,6))\n",
        "sns.countplot(x='region', data=df)\n",
        "plt.title('region')\n",
        "plt.show()"
      ]
    },
    {
      "cell_type": "markdown",
      "source": [
        "\n",
        "\n",
        "\n",
        "\n",
        "> Most of the people in our dataset come from southeast region but it is very little differnce so it will be discarded\n",
        "\n"
      ],
      "metadata": {
        "id": "WRNJdk2JwhZ7"
      }
    },
    {
      "cell_type": "code",
      "execution_count": null,
      "metadata": {
        "id": "KN-ypb6tRwFY"
      },
      "outputs": [],
      "source": [
        "#Display and plot The features to view expenses distribution \n",
        "plt.figure(figsize=(6,6))\n",
        "sns.histplot(df['expenses'])\n",
        "plt.title('Expenses Distribution')\n",
        "plt.show()"
      ]
    },
    {
      "cell_type": "markdown",
      "source": [
        "## Box Plots"
      ],
      "metadata": {
        "id": "O5H1izobu8XX"
      }
    },
    {
      "cell_type": "code",
      "execution_count": null,
      "metadata": {
        "id": "jJ531RV-RwFY"
      },
      "outputs": [],
      "source": [
        "# Create a box plot for expenses grouped by region\n",
        "df.boxplot(column=[\"expenses\"], by=\"region\")\n",
        "\n",
        "# Set the title of the plot\n",
        "plt.title('Box plot of Medical Charges per Region')\n",
        "\n",
        "# Clear the overall title of the plot\n",
        "#plt.title('')\n",
        "plt.suptitle('')\n",
        "\n",
        "# Set the y-axis label\n",
        "plt.ylabel('charges')\n",
        "plt.xlabel('region')\n",
        "\n",
        "# Display the plot\n",
        "plt.show()"
      ]
    },
    {
      "cell_type": "code",
      "execution_count": null,
      "metadata": {
        "id": "QzDXauPxRwFY"
      },
      "outputs": [],
      "source": [
        "# Create a box plot for expenses grouped by smoker\n",
        "df.boxplot(column=[\"expenses\"], by=\"smoker\")\n",
        "\n",
        "# Set the title of the plot\n",
        "plt.title('Box plot of Medical Charges by Smoking status')\n",
        "\n",
        "# Clear the overall title of the plot\n",
        "#plt.title('')\n",
        "plt.suptitle('')\n",
        "\n",
        "# Set the y-axis label\n",
        "plt.ylabel('charges')\n",
        "plt.xlabel('smoker')\n",
        "\n",
        "# Display the plot\n",
        "plt.show()"
      ]
    },
    {
      "cell_type": "code",
      "execution_count": null,
      "metadata": {
        "id": "m1mAHK6cRwFZ"
      },
      "outputs": [],
      "source": [
        "# Create a box plot for expenses grouped by region\n",
        "df.boxplot(column=[\"expenses\"], by=\"sex\")\n",
        "\n",
        "# Set the title of the plot\n",
        "plt.title('Box plot of Medical Charges per Gender')\n",
        "\n",
        "# Clear the overall title of the plot\n",
        "#plt.title('')\n",
        "plt.suptitle('')\n",
        "\n",
        "# Set the y-axis label\n",
        "plt.ylabel('charges')\n",
        "plt.xlabel('sex')\n",
        "\n",
        "# Display the plot\n",
        "plt.show()"
      ]
    },
    {
      "cell_type": "code",
      "execution_count": null,
      "metadata": {
        "id": "tEH9vvh5RwFZ"
      },
      "outputs": [],
      "source": [
        "# Create a box plot for expenses grouped by region\n",
        "df.boxplot(column=[\"expenses\"], by=\"children\")\n",
        "\n",
        "# Set the title of the plot\n",
        "plt.title('Box plot of Medical Charges per children')\n",
        "\n",
        "# Clear the overall title of the plot\n",
        "#plt.title('')\n",
        "plt.suptitle('')\n",
        "\n",
        "# Set the y-axis label\n",
        "plt.ylabel('charges')\n",
        "plt.xlabel('children')\n",
        "\n",
        "# Display the plot\n",
        "plt.show()"
      ]
    },
    {
      "cell_type": "markdown",
      "source": [
        "## Feature extraction"
      ],
      "metadata": {
        "id": "O89154rGvA7X"
      }
    },
    {
      "cell_type": "code",
      "source": [
        "# Drop the 'region' column from the DataFrame\n",
        "df.drop('region', axis=1, inplace=True)\n",
        "print(df)"
      ],
      "metadata": {
        "id": "l-u6Lc5pgVFK"
      },
      "execution_count": null,
      "outputs": []
    },
    {
      "cell_type": "code",
      "execution_count": null,
      "metadata": {
        "id": "PHr6n4riRwFZ"
      },
      "outputs": [],
      "source": [
        "#Define x and y; x represents all the column except region that was dropped earlier and the target feature,and y represents the target feature \"Expenses\" \n",
        "x = df.drop(columns='expenses', axis=1)\n",
        "y = df['expenses']\n",
        "print(df)"
      ]
    },
    {
      "cell_type": "code",
      "source": [
        "# Normalize the data\n",
        "from sklearn.preprocessing import MinMaxScaler\n",
        "\n",
        "# Initialize the scaler\n",
        "normalize_scaler = MinMaxScaler()\n",
        "\n",
        "# Fit and transform the data\n",
        "normalized_data = normalize_scaler.fit_transform(df[df.columns])\n",
        "df_norm = pd.DataFrame(normalized_data, columns=df.columns)\n",
        "print(normalized_data)"
      ],
      "metadata": {
        "id": "PEOTMRAzgqU3"
      },
      "execution_count": null,
      "outputs": []
    },
    {
      "cell_type": "code",
      "source": [
        "# Scale the data\n",
        "from sklearn.preprocessing import StandardScaler\n",
        "\n",
        "# Initialize the scaler\n",
        "scaler = StandardScaler()\n",
        "\n",
        "# Fit and transform the data\n",
        "scaled_data = scaler.fit_transform(df)\n",
        "df_scaled = pd.DataFrame(scaled_data, columns=df.columns)\n",
        "print(scaled_data)"
      ],
      "metadata": {
        "id": "qy08u0nLgyxP"
      },
      "execution_count": null,
      "outputs": []
    },
    {
      "cell_type": "markdown",
      "source": [
        "## Box plots after Normalization and Scale"
      ],
      "metadata": {
        "id": "TA2Dg81gvfFZ"
      }
    },
    {
      "cell_type": "code",
      "source": [
        "# Create a boxplot of the scaled data frame\n",
        "feature1 = df_scaled['age']\n",
        "feature2 = df_scaled['bmi']\n",
        "feature3 = df_scaled['children']\n",
        "features_scaled = [feature1,feature2,feature3]"
      ],
      "metadata": {
        "id": "piEtXpo6hhoo"
      },
      "execution_count": null,
      "outputs": []
    },
    {
      "cell_type": "code",
      "source": [
        "# Create a boxplot of the normalize data frame\n",
        "feature1 = df_norm['age']\n",
        "feature2 = df_norm['bmi']\n",
        "feature3 = df_norm['children']\n",
        "features_normalized = [feature1,feature2,feature3]"
      ],
      "metadata": {
        "id": "pGOdt1Z4hpgl"
      },
      "execution_count": null,
      "outputs": []
    },
    {
      "cell_type": "code",
      "source": [
        "import seaborn as sns\n",
        "\n",
        "# assuming 'data1' and 'data2' are your data\n",
        "sns.set(style=\"ticks\")\n",
        "fig, (ax1, ax2) = plt.subplots(1, 2, figsize=(10, 5))\n",
        "\n",
        "# plot the boxplot of the scaled data frame\n",
        "sns.boxplot(data=features_scaled, ax=ax1)\n",
        "ax1.set_xlabel('Features')\n",
        "ax1.set_ylabel('Scaled value')\n",
        "ax1.set_title('Boxplot of the scaled data frame')\n",
        "#ax1.set_xticks(range(len(labels)))\n",
        "ax1.set_xticklabels(['Age','Bmi','Children'])\n",
        "\n",
        "# plot the boxplot of the scaled data frame\n",
        "sns.boxplot(data=features_normalized, ax=ax2)\n",
        "ax2.set_xlabel('Features')\n",
        "ax2.set_ylabel('Normalized value')\n",
        "ax2.set_title('Boxplot of the normalize data frame')\n",
        "ax2.set_xticklabels(['Age','Bmi','Children'])\n",
        "\n",
        "# adjust spacing between the plots\n",
        "plt.subplots_adjust(wspace=0.3)\n",
        "\n",
        "# show the plot\n",
        "plt.show()\n"
      ],
      "metadata": {
        "id": "q16Ye_YEiJMN"
      },
      "execution_count": null,
      "outputs": []
    },
    {
      "cell_type": "markdown",
      "source": [
        "### sex and insurance expenses"
      ],
      "metadata": {
        "id": "uQoNKe4-ubp7"
      }
    },
    {
      "cell_type": "code",
      "source": [
        "#Distribution of sex and their insurance expenses\n",
        "sns.scatterplot(x=df['age'],y=df['expenses'])\n",
        "sns.regplot(x=df['age'],y=df['expenses'])\n",
        "plt.title('Scatterplot of ho')"
      ],
      "metadata": {
        "id": "swMM_zv1k-Au",
        "collapsed": true
      },
      "execution_count": null,
      "outputs": []
    },
    {
      "cell_type": "markdown",
      "source": [
        "\n",
        "> The regression line has apositive slope hence we could say that older people pay more insurance charges than younger people.\n",
        "\n"
      ],
      "metadata": {
        "id": "N_6VEwIhmcZP"
      }
    },
    {
      "cell_type": "markdown",
      "source": [
        "### BMI and insurance charges"
      ],
      "metadata": {
        "id": "V5nQXiYkuqFd"
      }
    },
    {
      "cell_type": "code",
      "source": [
        "# BMI and insurance expenses\n",
        "sns.scatterplot(x=df['bmi'], y=df['expenses'])"
      ],
      "metadata": {
        "id": "97dNcZz5tjRM"
      },
      "execution_count": null,
      "outputs": []
    },
    {
      "cell_type": "markdown",
      "source": [
        "\n",
        "\n",
        "> We can see that people with high BMI pay more with regards to insurance charges. It may suggest that they are susceptible to diseases. We can going to add a regression line.\n",
        "\n",
        "\n",
        "\n"
      ],
      "metadata": {
        "id": "O-suaPsluMnB"
      }
    },
    {
      "cell_type": "code",
      "source": [
        "sns.regplot(x=df['bmi'],y=df['expenses'])"
      ],
      "metadata": {
        "id": "LluWzz3puF4_"
      },
      "execution_count": null,
      "outputs": []
    },
    {
      "cell_type": "markdown",
      "source": [
        "\n",
        "\n",
        "> The positive slope in our regression line confirms our assumptions on a positive correlation between BMI and insurance charges.\n",
        "\n",
        "\n",
        "\n"
      ],
      "metadata": {
        "id": "oSY1UUi1uVBt"
      }
    },
    {
      "cell_type": "markdown",
      "source": [
        "### How smoking affects BMI and Insurance Charges.\n"
      ],
      "metadata": {
        "id": "O6ZWVBy5v6Th"
      }
    },
    {
      "cell_type": "code",
      "source": [
        "# How smoking affects BMI and Insurance Charges.\n",
        "sns.scatterplot(x=df['bmi'],y=df['expenses'],hue=df['smoker'])\n",
        "plt.title('Scatterplot of how smoking affects BMI and Insurance Charges')"
      ],
      "metadata": {
        "id": "mWu1aYBjuU2R"
      },
      "execution_count": null,
      "outputs": []
    },
    {
      "cell_type": "markdown",
      "source": [
        "\n",
        "\n",
        "> We can say that most people who smoke have a higher BMI than non-smokers and they also pay higher insurance charges than non-smokers.\n",
        "\n",
        "\n",
        "\n"
      ],
      "metadata": {
        "id": "L4lcQbViwTIP"
      }
    },
    {
      "cell_type": "code",
      "execution_count": null,
      "metadata": {
        "scrolled": true,
        "id": "ZHnWXhUXRwFZ"
      },
      "outputs": [],
      "source": [
        "# creating train and test sets\n",
        "x_train,x_test,y_train,y_test = train_test_split(x,y,test_size=0.2,random_state=42)"
      ]
    },
    {
      "cell_type": "code",
      "execution_count": null,
      "metadata": {
        "id": "vfp3_LqPRwFZ"
      },
      "outputs": [],
      "source": [
        "# creating a Linear regression model\n",
        "model = LinearRegression()\n",
        "# fitting the model\n",
        "model.fit(x_train,y_train)\n",
        "# making predictions\n",
        "Linear_predictions = model.predict(x_test)\n",
        "#Calculating R2 square\n",
        "r2_test = metrics.r2_score(y_test,Linear_predictions)\n",
        "print(f\"R squared value: {r2_test*100}\")"
      ]
    },
    {
      "cell_type": "code",
      "execution_count": null,
      "metadata": {
        "id": "45E6r3SHRwFZ"
      },
      "outputs": [],
      "source": [
        "#Scatter plot between the test the predicted data \n",
        "sns.scatterplot(x=y_test,y= Linear_predictions, s=150)\n",
        "plt.xlabel('y_test data')\n",
        "plt.ylabel('Predictions')"
      ]
    },
    {
      "cell_type": "code",
      "execution_count": null,
      "metadata": {
        "id": "jOQ6RiVYRwFa"
      },
      "outputs": [],
      "source": [
        "# create a decision tree regressor model\n",
        "regressor = DecisionTreeRegressor() \n",
        "# fit the model\n",
        "regressor.fit(x_train,y_train)\n",
        "# making predictions\n",
        "tree_predictions = regressor.predict(x_test)\n",
        "#Calculating R2 square\n",
        "r2_test = metrics.r2_score(y_test,tree_predictions)\n",
        "print(f\"R squared value: {r2_test*100}\")"
      ]
    },
    {
      "cell_type": "code",
      "execution_count": null,
      "metadata": {
        "id": "1qnEoy_FRwFa"
      },
      "outputs": [],
      "source": [
        "#Scatter plot between the test the predicted data \n",
        "sns.scatterplot(x=y_test, y=tree_predictions, s=150)\n",
        "plt.xlabel('y_test data')\n",
        "plt.ylabel('Predictions')"
      ]
    },
    {
      "cell_type": "code",
      "execution_count": null,
      "metadata": {
        "id": "9DKY7wKuRwFa"
      },
      "outputs": [],
      "source": [
        "# create a gradient boosting regressor model\n",
        "reg = GradientBoostingRegressor() \n",
        "# fit the model\n",
        "reg.fit(x_train,y_train)\n",
        "# making predictions\n",
        "predictions = reg.predict(x_test)\n",
        "#Calculating R2 square\n",
        "r2_test = metrics.r2_score(y_test,predictions)\n",
        "print(f\"R squared value: {r2_test*100}\")"
      ]
    },
    {
      "cell_type": "code",
      "execution_count": null,
      "metadata": {
        "id": "1Exo6zc_RwFa"
      },
      "outputs": [],
      "source": [
        "#Scatter plot between the test the predicted data \n",
        "sns.scatterplot(x=y_test,y= predictions, s=150)\n",
        "plt.xlabel('y_test data')\n",
        "plt.ylabel('Predictions')"
      ]
    }
  ],
  "metadata": {
    "kernelspec": {
      "display_name": "Python 3",
      "language": "python",
      "name": "python3"
    },
    "language_info": {
      "codemirror_mode": {
        "name": "ipython",
        "version": 3
      },
      "file_extension": ".py",
      "mimetype": "text/x-python",
      "name": "python",
      "nbconvert_exporter": "python",
      "pygments_lexer": "ipython3",
      "version": "3.8.3"
    },
    "colab": {
      "provenance": [],
      "toc_visible": true
    }
  },
  "nbformat": 4,
  "nbformat_minor": 0
}